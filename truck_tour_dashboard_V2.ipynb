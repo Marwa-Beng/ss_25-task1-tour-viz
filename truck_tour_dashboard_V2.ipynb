{
 "cells": [
  {
   "cell_type": "code",
   "execution_count": 2,
   "id": "223f2283",
   "metadata": {},
   "outputs": [],
   "source": [
    "# ----------------------------\n",
    "# 📦 Imports and Setup\n",
    "# ----------------------------\n",
    "import pandas as pd\n",
    "import datetime\n",
    "from dash import Dash, html, dcc, Output, Input\n",
    "import dash_leaflet as dl\n",
    "import dash_leaflet.express as dlx\n"
   ]
  },
  {
   "cell_type": "code",
   "execution_count": 3,
   "id": "c146a1a9-084b-4742-b4ed-78a55c927715",
   "metadata": {},
   "outputs": [],
   "source": [
    "\n",
    "# ----------------------------\n",
    "# 📊 Load and Prepare Data\n",
    "# ----------------------------\n",
    "df = pd.read_excel(\"cw_perform_event_df.xlsx\")\n",
    "df = df[df[\"vehicleType\"].isin([\"FL\", \"ARC\"])]  # Filter only FL and ARC\n",
    "\n",
    "df['start'] = pd.to_datetime(df['start'])\n",
    "df['end'] = pd.to_datetime(df['end'])\n",
    "df['date'] = df['start'].dt.date\n",
    "\n",
    "# Clean invalid locations\n",
    "df = df.dropna(subset=['completionLatitude', 'completionLongitude'])\n"
   ]
  },
  {
   "cell_type": "code",
   "execution_count": 4,
   "id": "2dfb71ff-d9d8-4a40-9c8d-9a5753beecb5",
   "metadata": {},
   "outputs": [],
   "source": [
    "# ----------------------------\n",
    "# 🚀 Dash App Setup\n",
    "# ----------------------------\n",
    "app = Dash(__name__)\n",
    "server = app.server\n",
    "\n",
    "app.layout = html.Div([\n",
    "    html.H2(\"Truck Tour Viewer with Map\"),\n",
    "    html.Div([\n",
    "        html.Label(\"Select Date:\"),\n",
    "        dcc.Dropdown(\n",
    "            id=\"date-dropdown\",\n",
    "            options=[{\"label\": str(date), \"value\": str(date)} for date in sorted(df['date'].unique())],\n",
    "            value=str(sorted(df['date'].unique())[0])\n",
    "        ),\n",
    "        html.Label(\"Select Truck ID:\"),\n",
    "        dcc.Dropdown(id=\"truck-dropdown\")\n",
    "    ], style={\"width\": \"30%\", \"display\": \"inline-block\", \"verticalAlign\": \"top\"}),\n",
    "\n",
    "    html.Div([\n",
    "        dl.Map(\n",
    "            id=\"map\",\n",
    "            center=(48.7656, 11.4237),\n",
    "            zoom=11,\n",
    "            style={\"width\": \"100%\", \"height\": \"700px\"},\n",
    "            children=[dl.TileLayer()]\n",
    "        )\n",
    "    ], style={\"width\": \"68%\", \"display\": \"inline-block\", \"paddingLeft\": \"2%\"})\n",
    "])"
   ]
  },
  {
   "cell_type": "code",
   "execution_count": 5,
   "id": "d3136581-597a-4fff-8a1f-88662ae809b2",
   "metadata": {},
   "outputs": [],
   "source": [
    "# ----------------------------\n",
    "# 🔁 Populate Truck Dropdown Based on Selected Date\n",
    "# ----------------------------\n",
    "@app.callback(\n",
    "    Output(\"truck-dropdown\", \"options\"),\n",
    "    [Input(\"date-dropdown\", \"value\")]\n",
    ")\n",
    "def update_truck_dropdown(selected_date):\n",
    "    date_obj = datetime.datetime.strptime(selected_date, \"%Y-%m-%d\").date()\n",
    "    trucks = df[df['date'] == date_obj]['truck'].unique()\n",
    "    return [{\"label\": truck, \"value\": truck} for truck in sorted(trucks)]"
   ]
  },
  {
   "cell_type": "code",
   "execution_count": 6,
   "id": "884af536-1811-4518-8bb3-5848d44264e7",
   "metadata": {},
   "outputs": [],
   "source": [
    "# ----------------------------\n",
    "# 🗺️ Map Rendering with Color Coded Stops and Mismatch Detection\n",
    "# ----------------------------\n",
    "@app.callback(\n",
    "    Output(\"map\", \"children\"),\n",
    "    [Input(\"date-dropdown\", \"value\"), Input(\"truck-dropdown\", \"value\")]\n",
    ")\n",
    "def update_map(selected_date, truck_id):\n",
    "    if not selected_date or not truck_id:\n",
    "        return [dl.TileLayer()]\n",
    "\n",
    "    df_filtered = df[(df[\"date\"] == datetime.datetime.strptime(selected_date, \"%Y-%m-%d\").date()) &\n",
    "                     (df[\"truck\"] == truck_id)].sort_values(\"start\")\n",
    "\n",
    "    if df_filtered.empty:\n",
    "        return [dl.TileLayer()]\n",
    "\n",
    "    coordinates = list(zip(df_filtered[\"completionLatitude\"], df_filtered[\"completionLongitude\"]))\n",
    "\n",
    "    first_coord = coordinates[0]\n",
    "    last_coord = coordinates[-1]\n",
    "\n",
    "    same_start_end = (abs(first_coord[0] - last_coord[0]) < 0.0001 and abs(first_coord[1] - last_coord[1]) < 0.0001)\n",
    "    start_color = \"green\" if same_start_end else \"orange\"\n",
    "\n",
    "    # Draw black polyline regardless of truck\n",
    "    polyline = dl.Polyline(positions=coordinates, color=\"black\", weight=3)\n",
    "\n",
    "    # Markers with appropriate color\n",
    "    markers = []\n",
    "    for i, row in enumerate(df_filtered.itertuples()):\n",
    "        lat, lon = row.completionLatitude, row.completionLongitude\n",
    "        if i == 0:\n",
    "            color = start_color\n",
    "        else:\n",
    "            color = \"blue\"\n",
    "\n",
    "        popup = dl.Popup([\n",
    "            html.B(f\"Truck: {row.truck}\"), html.Br(),\n",
    "            f\"Client: {row.clientAddress}\", html.Br(),\n",
    "            f\"Start: {row.start}\", html.Br(),\n",
    "            f\"End: {row.end}\", html.Br(),\n",
    "            f\"CO₂ Emission: {getattr(row, 'event_co2Emission', 'N/A')}\", html.Br(),\n",
    "            f\"Fuel Rate: {getattr(row, 'event_fuel_rate', 'N/A')}\", html.Br(),\n",
    "            f\"Speed: {getattr(row, 'wheel_speed', 'N/A')}\"\n",
    "        ], maxWidth=300)\n",
    "\n",
    "        markers.append(\n",
    "            dl.CircleMarker(\n",
    "                center=(lat, lon),\n",
    "                radius=6,\n",
    "                color=color,\n",
    "                fill=True,\n",
    "                fillOpacity=0.9,\n",
    "                children=[popup]\n",
    "            )\n",
    "        )\n",
    "\n",
    "    # Legend\n",
    "    legend = dlx.categorical_colorbar(\n",
    "        categories=[\"Start/End (OK)\", \"Start/End (Mismatch)\", \"Client Stop\"],\n",
    "        colorscale=[\"green\", \"orange\", \"blue\"],  # ✅ Added this line\n",
    "        width=350,\n",
    "        height=30,\n",
    "        position=\"bottomright\"\n",
    ")\n",
    "\n",
    "\n",
    "    return [dl.TileLayer(), polyline, *markers, legend]\n"
   ]
  },
  {
   "cell_type": "code",
   "execution_count": 7,
   "id": "098eb090-be08-4076-98a5-75856c1d4f70",
   "metadata": {},
   "outputs": [
    {
     "data": {
      "text/html": [
       "\n",
       "        <iframe\n",
       "            width=\"100%\"\n",
       "            height=\"650\"\n",
       "            src=\"http://127.0.0.1:8050/\"\n",
       "            frameborder=\"0\"\n",
       "            allowfullscreen\n",
       "            \n",
       "        ></iframe>\n",
       "        "
      ],
      "text/plain": [
       "<IPython.lib.display.IFrame at 0x15974df70>"
      ]
     },
     "metadata": {},
     "output_type": "display_data"
    }
   ],
   "source": [
    "\n",
    "# ----------------------------\n",
    "# 🚀 Run the App\n",
    "# ----------------------------\n",
    "if __name__ == '__main__':\n",
    "    app.run_server(debug=True)\n"
   ]
  }
 ],
 "metadata": {
  "kernelspec": {
   "display_name": "Python [conda env:ml_env]",
   "language": "python",
   "name": "conda-env-ml_env-py"
  },
  "language_info": {
   "codemirror_mode": {
    "name": "ipython",
    "version": 3
   },
   "file_extension": ".py",
   "mimetype": "text/x-python",
   "name": "python",
   "nbconvert_exporter": "python",
   "pygments_lexer": "ipython3",
   "version": "3.8.18"
  }
 },
 "nbformat": 4,
 "nbformat_minor": 5
}
